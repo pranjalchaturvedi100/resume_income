{
 "cells": [
  {
   "cell_type": "markdown",
   "id": "672e8b33",
   "metadata": {},
   "source": [
    "# REPORT ON NAIVE BAYES CLASSIFICATION"
   ]
  },
  {
   "cell_type": "markdown",
   "id": "0f01cac9",
   "metadata": {},
   "source": [
    "To Implement Naïve Bayes classifier to predict whether income is more than 50k per year"
   ]
  },
  {
   "cell_type": "markdown",
   "id": "ec606705",
   "metadata": {},
   "source": [
    "## Data Preprocessing\n",
    "* Step 1. Importing the given dataset.\n",
    "* Step 2. Replacing all the missing values in the dataset with the most frequent values in the corresponding categorical feature column.\n",
    "* Step 3. Replacing all the values in the target column '>=50k' as 1 & '<50k' as 0.\n",
    "* Step 4. Converting all the continuos features to categorical features for Naive Bayes Classifier.\n",
    "* Step 5. Spliting the dataset into training and testing sets (67% for training, 33% for testing)."
   ]
  },
  {
   "cell_type": "markdown",
   "id": "5460f7eb",
   "metadata": {},
   "source": [
    "## Naive Bayes Classifier Implementation\n",
    "* Step 1. Implemented a function which precomputes the conditional probabilities for all features which takes the training data as  input and returns a list of dictionaries as output.\n",
    "    * Function Name : precomp\n",
    "    \n",
    "    * Inputs : training_data, alpha\n",
    "    \n",
    "    * Output : List of Dictionaries (each dictionary corresponding to a feature).\n",
    "   \n",
    "* Step 2. Implemented a function to calculate the prior probability of a given target class which takes training data and target class and returns the prior probability for the given class.\n",
    "    * Function Name: prior\n",
    "    \n",
    "    * Inputs : training _data, target(0 for '<=50K' and 1 for '>50K')\n",
    "    \n",
    "    * Output : prob\n",
    "    \n",
    "* Step 3. Implemented a function to calculate the conditional probability for a certain value of a feature which takes the precomputed values, feature, value and target class as inputs and returns the conditional probability value.\n",
    "    * Function Name : conditional_prob\n",
    "    \n",
    "    * Inputs : prec(List of Dictionaries returned by the precomp function), feature, value, target(0 for '<=50K' and 1 for '>50K')\n",
    "    \n",
    "    * Output : prob\n",
    "    \n",
    "* Step 4. Implemented a function to predict the class for a given testing example, which takes testing example, precomputed values and the the prior probablitites of both classes as input and returns the predicted class as the output.\n",
    "    * Function Name: pred\n",
    "    \n",
    "    * Inputs : testing_example, prec, pr1, pr2\n",
    "    \n",
    "    * Output : (0 for '<=50K' and 1 for '>50K')\n",
    "    \n",
    "* Step 5. Implemented a function to evaluate the model given a set of testing examples, which takes set of testing examples, precomputed values and the prior probabilities of the two classes and returns the confusion matrix.\n",
    "    * Function Name : evaluate\n",
    "    \n",
    "    * Inputs : testing_set, prec, pr1, pr2\n",
    "    \n",
    "    * Output : c_mat\n",
    "    \n",
    "* Step 6. Implemented functions to calculate the accuracy, precision, recall given a Confusion Matrix."
   ]
  },
  {
   "cell_type": "markdown",
   "id": "11d1fa7d",
   "metadata": {},
   "source": [
    "## Evaluation and Improvement\n",
    "1. We used the Laplace Smoothing Technique to improve the results.\n",
    "<img src=\"y.png\" alt=\"Alternative text\" />\n",
    "2. Logistic Regression model performs similarly to Naive Bayes Classifier.\n",
    "3. KNN(1) & KNN(3) performs worse than both Logistic Regression Model & Naive Bayes Classifier."
   ]
  },
  {
   "cell_type": "markdown",
   "id": "e4c1139f",
   "metadata": {},
   "source": [
    "## Comparative Study \n",
    "1. Naive Bayes (with smoothing using alpha=100)\n",
    "    * Accuracy:\n",
    "     Mean = 83.41072415699281  Standard Deviation = 0.22941406303990647\n",
    "    * Precision:\n",
    "     Mean = 68.04284763939786  Standard Deviation = 0.6020337888170213\n",
    "    * Recall:\n",
    "     Mean = 58.32514191158327  Standard Deviation = 0.8097527074892508\n",
    "    * F1-Score:\n",
    "     Mean = 62.807027028037  Standard Deviation = 0.5856921474721646\n",
    "     "
   ]
  },
  {
   "cell_type": "markdown",
   "id": "c2a108c5",
   "metadata": {},
   "source": [
    "2. Naive Bayes (without smoothing)\n",
    "    * Accuracy:\n",
    "     Mean = 81.90989496959646  Standard Deviation = 0.21670597911072575\n",
    "    * Precision:\n",
    "     Mean = 59.43472202681524  Standard Deviation = 0.39795457193838496\n",
    "    * Recall:\n",
    "     Mean = 77.11694544808756  Standard Deviation = 0.9768630228624241\n",
    "    * F1-Score:\n",
    "     Mean = 67.12577743942373  Standard Deviation = 0.28151051777032854"
   ]
  },
  {
   "cell_type": "markdown",
   "id": "986b4d9d",
   "metadata": {},
   "source": [
    "3. Logistic Regression\n",
    "    * Accuracy:\n",
    "     Mean = 82.93808734107242  Standard Deviation = 0.16234315857973539\n",
    "   * Precision:\n",
    "     Mean = 70.53799855074054  Standard Deviation = 0.8376734042782005\n",
    "   * Recall:\n",
    "     Mean = 50.670617568560985  Standard Deviation = 0.6840950511934913\n",
    "   * F1-Score:\n",
    "     Mean = 58.970572328941145  Standard Deviation = 0.5006951393514508"
   ]
  },
  {
   "cell_type": "markdown",
   "id": "2f10edd8",
   "metadata": {},
   "source": [
    "4. KNN(1)\n",
    "   * Accuracy:\n",
    "     Mean = 78.99023401510965  Standard Deviation = 0.29462633996357396\n",
    "   * Precision:\n",
    "     Mean = 56.7218636391694  Standard Deviation = 0.645354106756531\n",
    "   * Recall:\n",
    "     Mean = 55.46972863379492  Standard Deviation = 1.0053505742255289\n",
    "   * F1-Score:\n",
    "     Mean = 56.084733919568954  Standard Deviation = 0.7084447162575287\n",
    "     \n",
    "   KNN(3)\n",
    "    * Accuracy:\n",
    "     Mean = 81.3045881702598  Standard Deviation = 0.3139469123180316\n",
    "    * Precision:\n",
    "     Mean = 62.11106498449699  Standard Deviation = 0.9956105019774367\n",
    "    * Recall:\n",
    "     Mean = 56.61438573416167  Standard Deviation = 0.7631206668976845\n",
    "    * F1-Score:\n",
    "     Mean = 59.22715868577509  Standard Deviation = 0.514345771560637"
   ]
  },
  {
   "cell_type": "code",
   "execution_count": null,
   "id": "7b16afd3",
   "metadata": {},
   "outputs": [],
   "source": []
  },
  {
   "cell_type": "code",
   "execution_count": null,
   "id": "31537fee",
   "metadata": {},
   "outputs": [],
   "source": []
  }
 ],
 "metadata": {
  "kernelspec": {
   "display_name": "Python 3 (ipykernel)",
   "language": "python",
   "name": "python3"
  },
  "language_info": {
   "codemirror_mode": {
    "name": "ipython",
    "version": 3
   },
   "file_extension": ".py",
   "mimetype": "text/x-python",
   "name": "python",
   "nbconvert_exporter": "python",
   "pygments_lexer": "ipython3",
   "version": "3.10.9"
  }
 },
 "nbformat": 4,
 "nbformat_minor": 5
}
